{
 "cells": [
  {
   "cell_type": "code",
   "execution_count": 1,
   "metadata": {},
   "outputs": [
    {
     "name": "stdout",
     "output_type": "stream",
     "text": [
      "Requirement already satisfied: pip in /opt/conda/lib/python3.11/site-packages (24.0)\n",
      "Collecting pip\n",
      "  Downloading pip-24.3.1-py3-none-any.whl.metadata (3.7 kB)\n",
      "Downloading pip-24.3.1-py3-none-any.whl (1.8 MB)\n",
      "\u001b[2K   \u001b[90m━━━━━━━━━━━━━━━━━━━━━━━━━━━━━━━━━━━━━━━━\u001b[0m \u001b[32m1.8/1.8 MB\u001b[0m \u001b[31m10.9 MB/s\u001b[0m eta \u001b[36m0:00:00\u001b[0m \u001b[36m0:00:01\u001b[0m\n",
      "\u001b[?25hInstalling collected packages: pip\n",
      "  Attempting uninstall: pip\n",
      "    Found existing installation: pip 24.0\n",
      "    Uninstalling pip-24.0:\n",
      "      Successfully uninstalled pip-24.0\n",
      "Successfully installed pip-24.3.1\n",
      "\u001b[33mWARNING: Running pip as the 'root' user can result in broken permissions and conflicting behaviour with the system package manager. It is recommended to use a virtual environment instead: https://pip.pypa.io/warnings/venv\u001b[0m\u001b[33m\n",
      "\u001b[0m\u001b[33mWARNING: Running pip as the 'root' user can result in broken permissions and conflicting behaviour with the system package manager, possibly rendering your system unusable.It is recommended to use a virtual environment instead: https://pip.pypa.io/warnings/venv. Use the --root-user-action option if you know what you are doing and want to suppress this warning.\u001b[0m\u001b[33m\n",
      "\u001b[0m\u001b[33mWARNING: Running pip as the 'root' user can result in broken permissions and conflicting behaviour with the system package manager, possibly rendering your system unusable.It is recommended to use a virtual environment instead: https://pip.pypa.io/warnings/venv. Use the --root-user-action option if you know what you are doing and want to suppress this warning.\u001b[0m\u001b[33m\n",
      "Reading package lists... Done\n",
      "Building dependency tree... Done\n",
      "Reading state information... Done\n",
      "The following NEW packages will be installed:\n",
      "  git-lfs\n",
      "0 upgraded, 1 newly installed, 0 to remove and 36 not upgraded.\n",
      "Need to get 3544 kB of archives.\n",
      "After this operation, 10.5 MB of additional disk space will be used.\n",
      "Get:1 http://archive.ubuntu.com/ubuntu jammy-updates/universe amd64 git-lfs amd64 3.0.2-1ubuntu0.3 [3544 kB]\n",
      "Fetched 3544 kB in 1s (2407 kB/s)  \n",
      "debconf: delaying package configuration, since apt-utils is not installed\n",
      "Selecting previously unselected package git-lfs.\n",
      "(Reading database ... 16754 files and directories currently installed.)\n",
      "Preparing to unpack .../git-lfs_3.0.2-1ubuntu0.3_amd64.deb ...\n",
      "Unpacking git-lfs (3.0.2-1ubuntu0.3) ...\n",
      "Setting up git-lfs (3.0.2-1ubuntu0.3) ...\n",
      "\u001b[33mWARNING: Running pip as the 'root' user can result in broken permissions and conflicting behaviour with the system package manager, possibly rendering your system unusable.It is recommended to use a virtual environment instead: https://pip.pypa.io/warnings/venv. Use the --root-user-action option if you know what you are doing and want to suppress this warning.\u001b[0m\u001b[33m\n",
      "\u001b[0m\u001b[33mWARNING: Running pip as the 'root' user can result in broken permissions and conflicting behaviour with the system package manager, possibly rendering your system unusable.It is recommended to use a virtual environment instead: https://pip.pypa.io/warnings/venv. Use the --root-user-action option if you know what you are doing and want to suppress this warning.\u001b[0m\u001b[33m\n",
      "\u001b[0m\u001b[33mWARNING: Running pip as the 'root' user can result in broken permissions and conflicting behaviour with the system package manager, possibly rendering your system unusable.It is recommended to use a virtual environment instead: https://pip.pypa.io/warnings/venv. Use the --root-user-action option if you know what you are doing and want to suppress this warning.\u001b[0m\u001b[33m\n",
      "\u001b[0m\u001b[33mWARNING: Running pip as the 'root' user can result in broken permissions and conflicting behaviour with the system package manager, possibly rendering your system unusable.It is recommended to use a virtual environment instead: https://pip.pypa.io/warnings/venv. Use the --root-user-action option if you know what you are doing and want to suppress this warning.\u001b[0m\u001b[33m\n",
      "\u001b[0m\u001b[33mWARNING: Running pip as the 'root' user can result in broken permissions and conflicting behaviour with the system package manager, possibly rendering your system unusable.It is recommended to use a virtual environment instead: https://pip.pypa.io/warnings/venv. Use the --root-user-action option if you know what you are doing and want to suppress this warning.\u001b[0m\u001b[33m\n",
      "\u001b[0m\u001b[33mWARNING: Running pip as the 'root' user can result in broken permissions and conflicting behaviour with the system package manager, possibly rendering your system unusable.It is recommended to use a virtual environment instead: https://pip.pypa.io/warnings/venv. Use the --root-user-action option if you know what you are doing and want to suppress this warning.\u001b[0m\u001b[33m\n",
      "\u001b[0m\u001b[33mWARNING: Running pip as the 'root' user can result in broken permissions and conflicting behaviour with the system package manager, possibly rendering your system unusable.It is recommended to use a virtual environment instead: https://pip.pypa.io/warnings/venv. Use the --root-user-action option if you know what you are doing and want to suppress this warning.\u001b[0m\u001b[33m\n",
      "\u001b[0m"
     ]
    }
   ],
   "source": [
    "!pip install --upgrade pip\n",
    "!pip install transformers==4.16 --quiet\n",
    "!pip install vncorenlp==1.0.3 --quiet\n",
    "!sudo apt-get install git-lfs\n",
    "!pip install sentencepiece --quiet\n",
    "!pip install tokenizer --quiet\n",
    "!pip install underthesea --quiet\n",
    "!pip install numpy --quiet\n",
    "!pip install pandas --quiet\n",
    "!pip install seaborn --quiet\n",
    "!pip install torch --quiet"
   ]
  },
  {
   "cell_type": "code",
   "execution_count": 2,
   "metadata": {},
   "outputs": [
    {
     "name": "stdout",
     "output_type": "stream",
     "text": [
      "\u001b[33mWARNING: Running pip as the 'root' user can result in broken permissions and conflicting behaviour with the system package manager, possibly rendering your system unusable.It is recommended to use a virtual environment instead: https://pip.pypa.io/warnings/venv. Use the --root-user-action option if you know what you are doing and want to suppress this warning.\u001b[0m\u001b[33m\n",
      "\u001b[0m\u001b[33mWARNING: Running pip as the 'root' user can result in broken permissions and conflicting behaviour with the system package manager, possibly rendering your system unusable.It is recommended to use a virtual environment instead: https://pip.pypa.io/warnings/venv. Use the --root-user-action option if you know what you are doing and want to suppress this warning.\u001b[0m\u001b[33m\n",
      "\u001b[0m\u001b[33mWARNING: Running pip as the 'root' user can result in broken permissions and conflicting behaviour with the system package manager, possibly rendering your system unusable.It is recommended to use a virtual environment instead: https://pip.pypa.io/warnings/venv. Use the --root-user-action option if you know what you are doing and want to suppress this warning.\u001b[0m\u001b[33m\n",
      "\u001b[0m"
     ]
    }
   ],
   "source": [
    "!pip install pyvi --quiet\n",
    "!pip install gensim --quiet\n",
    "!pip install openpyxl --quiet"
   ]
  },
  {
   "cell_type": "code",
   "execution_count": 3,
   "metadata": {},
   "outputs": [],
   "source": [
    "import os\n",
    "import torch\n",
    "import numpy as np\n",
    "import pandas as pd\n",
    "import seaborn as sns\n",
    "import matplotlib.pyplot as plt\n",
    "\n",
    "from pyvi import ViTokenizer\n",
    "from gensim.utils import simple_preprocess\n",
    "\n",
    "\n",
    "import torch.nn as nn\n",
    "from torch.optim import AdamW\n",
    "from torch.utils.data import Dataset, DataLoader\n",
    "\n",
    "from transformers import get_linear_schedule_with_warmup, AutoTokenizer, AutoModel, logging\n",
    "\n",
    "import warnings\n",
    "warnings.filterwarnings(\"ignore\")\n",
    "\n",
    "logging.set_verbosity_error()"
   ]
  },
  {
   "cell_type": "code",
   "execution_count": 4,
   "metadata": {},
   "outputs": [
    {
     "data": {
      "text/plain": [
       "device(type='cuda')"
      ]
     },
     "execution_count": 4,
     "metadata": {},
     "output_type": "execute_result"
    }
   ],
   "source": [
    "device = torch.device('cuda' if torch.cuda.is_available() else 'cpu')\n",
    "device"
   ]
  },
  {
   "cell_type": "code",
   "execution_count": 5,
   "metadata": {},
   "outputs": [],
   "source": [
    "def seed_everything(seed_value):\n",
    "    np.random.seed(seed_value)\n",
    "    torch.manual_seed(seed_value)\n",
    "\n",
    "    if torch.cuda.is_available():\n",
    "        torch.cuda.manual_seed(seed_value)\n",
    "        torch.cuda.manual_seed_all(seed_value)\n",
    "        torch.backends.cudnn.deterministic = True\n",
    "        torch.backends.cudnn.benchmark = True\n",
    "\n",
    "seed_everything(20082004)"
   ]
  },
  {
   "cell_type": "code",
   "execution_count": 6,
   "metadata": {},
   "outputs": [],
   "source": [
    "def get_data(path):\n",
    "    df = pd.read_excel(path, sheet_name=None)['Sheet1']\n",
    "    df.columns = ['index', 'Emotion', 'Sentence']\n",
    "    # unused column\n",
    "    df.drop(columns=['index'], inplace=True)\n",
    "    return df\n",
    "train_df = get_data('/workspace/train_nor_811.xlsx')\n",
    "valid_df = get_data('/workspace/valid_nor_811.xlsx')\n",
    "test_df = get_data('/workspace/test_nor_811.xlsx')"
   ]
  },
  {
   "cell_type": "code",
   "execution_count": 7,
   "metadata": {},
   "outputs": [],
   "source": [
    "class SentimentDataset(Dataset):\n",
    "    def __init__(self, df, tokenizer, max_len=120):\n",
    "        self.df = df\n",
    "        self.max_len = max_len\n",
    "        self.tokenizer = tokenizer\n",
    "\n",
    "    def __len__(self):\n",
    "        return len(self.df)\n",
    "\n",
    "    def __getitem__(self, index):\n",
    "        row = self.df.iloc[index]\n",
    "        text, label = self.get_input_data(row)\n",
    "\n",
    "        encoding = self.tokenizer.encode_plus(\n",
    "            text,\n",
    "            truncation=True,\n",
    "            add_special_tokens=True,\n",
    "            max_length=self.max_len,\n",
    "            padding='max_length',\n",
    "            return_attention_mask=True,\n",
    "            return_token_type_ids=False,\n",
    "            return_tensors='pt',\n",
    "        )\n",
    "\n",
    "        return {\n",
    "            'text': text,\n",
    "            'input_ids': encoding['input_ids'].flatten(),\n",
    "            'attention_masks': encoding['attention_mask'].flatten(),\n",
    "            'targets': torch.tensor(label, dtype=torch.long),\n",
    "        }\n",
    "\n",
    "\n",
    "    def labelencoder(self,text):\n",
    "        if text=='Enjoyment':\n",
    "            return 0\n",
    "        elif text=='Disgust':\n",
    "            return 1\n",
    "        elif text=='Sadness':\n",
    "            return 2\n",
    "        elif text=='Anger':\n",
    "            return 3\n",
    "        elif text=='Surprise':\n",
    "            return 4\n",
    "        elif text=='Fear':\n",
    "            return 5\n",
    "        else:\n",
    "            return 6\n",
    "\n",
    "    def get_input_data(self, row):\n",
    "        # Preprocessing: {remove icon, special character, lower}\n",
    "        text = row['Sentence']\n",
    "        text = ' '.join(simple_preprocess(text))\n",
    "        text = ViTokenizer.tokenize(text)\n",
    "        label = self.labelencoder(row['Emotion'])\n",
    "\n",
    "        return text, label"
   ]
  },
  {
   "cell_type": "code",
   "execution_count": 8,
   "metadata": {},
   "outputs": [
    {
     "data": {
      "application/vnd.jupyter.widget-view+json": {
       "model_id": "d9e6d93199b84788a756f91aa3f8372a",
       "version_major": 2,
       "version_minor": 0
      },
      "text/plain": [
       "Downloading:   0%|          | 0.00/557 [00:00<?, ?B/s]"
      ]
     },
     "metadata": {},
     "output_type": "display_data"
    },
    {
     "data": {
      "application/vnd.jupyter.widget-view+json": {
       "model_id": "dce15ab752924059a1e7614595fc3a58",
       "version_major": 2,
       "version_minor": 0
      },
      "text/plain": [
       "Downloading:   0%|          | 0.00/874k [00:00<?, ?B/s]"
      ]
     },
     "metadata": {},
     "output_type": "display_data"
    },
    {
     "data": {
      "application/vnd.jupyter.widget-view+json": {
       "model_id": "7d5bb284e87c4fc085d5b2595126963a",
       "version_major": 2,
       "version_minor": 0
      },
      "text/plain": [
       "Downloading:   0%|          | 0.00/1.08M [00:00<?, ?B/s]"
      ]
     },
     "metadata": {},
     "output_type": "display_data"
    },
    {
     "data": {
      "application/vnd.jupyter.widget-view+json": {
       "model_id": "1f45752c3aaa4166a8b4b5a2c26e23ff",
       "version_major": 2,
       "version_minor": 0
      },
      "text/plain": [
       "Downloading:   0%|          | 0.00/2.99M [00:00<?, ?B/s]"
      ]
     },
     "metadata": {},
     "output_type": "display_data"
    }
   ],
   "source": [
    "tokenizer = AutoTokenizer.from_pretrained(\"vinai/phobert-base\")"
   ]
  },
  {
   "cell_type": "code",
   "execution_count": 9,
   "metadata": {},
   "outputs": [],
   "source": [
    "train_dataset = SentimentDataset(train_df, tokenizer, max_len=120)\n",
    "valid_dataset = SentimentDataset(valid_df, tokenizer, max_len=120)\n",
    "test_dataset = SentimentDataset(test_df, tokenizer, max_len=120)\n",
    "train_loader = DataLoader(train_dataset, batch_size=16, shuffle=True, num_workers=2)\n",
    "valid_loader = DataLoader(valid_dataset, batch_size=16, shuffle=True, num_workers=2)\n",
    "test_loader = DataLoader(test_dataset, batch_size=16, shuffle=True, num_workers=2)"
   ]
  },
  {
   "cell_type": "code",
   "execution_count": 10,
   "metadata": {},
   "outputs": [],
   "source": [
    "# hyperparameters\n",
    "MAX_LEN = 256\n",
    "BATCH_SIZE = 16\n",
    "EPOCHS = 10\n",
    "LEARNING_RATE = 5e-5"
   ]
  },
  {
   "cell_type": "code",
   "execution_count": 12,
   "metadata": {},
   "outputs": [
    {
     "data": {
      "text/plain": [
       "_IncompatibleKeys(missing_keys=['bert.embeddings.position_ids'], unexpected_keys=[])"
      ]
     },
     "execution_count": 12,
     "metadata": {},
     "output_type": "execute_result"
    }
   ],
   "source": [
    "class TeacherModel(nn.Module):\n",
    "    def __init__(self, n_classes, drop_out=0.1):\n",
    "        super(TeacherModel, self).__init__()\n",
    "        self.bert = AutoModel.from_pretrained(\"vinai/phobert-base-v2\")\n",
    "        self.l1 = torch.nn.Linear(768, 256)\n",
    "        self.l2 = torch.nn.Linear(256, n_classes)\n",
    "        self.d1 = torch.nn.Dropout(drop_out)\n",
    "\n",
    "    def forward(self, input_ids, attention_mask, labels=None):\n",
    "        output = self.bert(input_ids, attention_mask=attention_mask)\n",
    "        output = output[1]\n",
    "        output = self.l1(output)\n",
    "        output = self.d1(output)\n",
    "        output = self.l2(output)\n",
    "        return output\n",
    "\n",
    "teacher_model = TeacherModel(n_classes=7)\n",
    "teacher_model.to(device)\n",
    "teacher_model.load_state_dict(torch.load('/workspace/teacher_model.pth'), strict = False)"
   ]
  },
  {
   "cell_type": "code",
   "execution_count": 13,
   "metadata": {},
   "outputs": [],
   "source": [
    "import torch.nn.functional as F\n",
    "def loss_fn_kd(outputs, labels, teacher_outputs, alpha, T):\n",
    "    KD_loss = nn.KLDivLoss()(F.log_softmax(outputs/T, dim=1),\n",
    "                             F.softmax(teacher_outputs/T, dim=1)) * (alpha * T * T) + F.cross_entropy(outputs, labels) * (1. - alpha)\n",
    "    return KD_loss\n",
    "weights = torch.FloatTensor([0.14, 0.14, 0.14, 0.14, 0.14, 0.15, 0.15])\n",
    "criterion = nn.CrossEntropyLoss(weight=weights.to(device))"
   ]
  },
  {
   "cell_type": "code",
   "execution_count": 14,
   "metadata": {},
   "outputs": [],
   "source": [
    "def train_kd(model, teacher_model, optimizer, scheduler, train_loader, alpha, T):\n",
    "    # set model to training mode\n",
    "    model.train()\n",
    "    teacher_model.eval()\n",
    "    \n",
    "    total_loss = total = 0\n",
    "    total_correct = 0\n",
    "    predictions = []\n",
    "    labels = []\n",
    "    for batch in train_loader:\n",
    "\n",
    "        label = batch['targets'].type(torch.LongTensor)\n",
    "        label = label.to(device)\n",
    "        input_ids = batch['input_ids'].to(device)\n",
    "        attention_masks = batch['attention_masks'].to(device)\n",
    "\n",
    "        # Clean old gradients\n",
    "        optimizer.zero_grad()\n",
    "\n",
    "        # Forwards pass\n",
    "        student_output = model(input_ids, attention_masks)\n",
    "        student_output = student_output.logits\n",
    "\n",
    "        with torch.no_grad():\n",
    "            teacher_output = teacher_model(input_ids, attention_masks)\n",
    "        \n",
    "        # Calculate how wrong the model is\n",
    "        loss = loss_fn_kd(student_output, label, teacher_output, alpha, T)\n",
    "        preds = torch.argmax(student_output, dim=1)\n",
    "\n",
    "        total_correct += torch.sum(preds == label.data)\n",
    "        \n",
    "        # Perform gradient descent, backwards pass\n",
    "        loss.backward()\n",
    "\n",
    "        # Take a step in the right direction\n",
    "        optimizer.step()\n",
    "        scheduler.step()\n",
    "\n",
    "        # Record metrics\n",
    "        total_loss += loss.item()\n",
    "        total += len(label)\n",
    "        \n",
    "    return total_correct / total, total_loss / total\n",
    "\n",
    "def validate_kd(model, valid_loader):\n",
    "    model.eval()\n",
    "    total_loss = total = 0\n",
    "    total_correct = 0\n",
    "    predictions = []\n",
    "    labels = []\n",
    "    with torch.no_grad():\n",
    "        for batch in valid_loader:\n",
    "            label = batch['targets'].type(torch.LongTensor)\n",
    "            label = label.to(device)\n",
    "            input_ids = batch['input_ids'].to(device)\n",
    "            attention_masks = batch['attention_masks'].to(device)\n",
    "\n",
    "            # Forwards pass\n",
    "            output = model(input_ids, attention_masks)\n",
    "            output = output.logits\n",
    "\n",
    "            preds = torch.argmax(output, 1)\n",
    "            predictions.append(preds.flatten())\n",
    "            labels.append(label.data)\n",
    "            \n",
    "            total_correct += torch.sum(preds == label.data)\n",
    "\n",
    "            # Calculate how wrong the model is\n",
    "            loss = criterion(output, label)\n",
    "\n",
    "            # Record metrics\n",
    "            total_loss += loss.item()\n",
    "            total += len(label)\n",
    "\n",
    "    predictions = torch.cat(predictions).detach().cpu()\n",
    "    labels = torch.cat(labels).detach().cpu()\n",
    "    return total_correct / total, total_loss / total, predictions"
   ]
  },
  {
   "cell_type": "code",
   "execution_count": 15,
   "metadata": {},
   "outputs": [],
   "source": [
    "def predict_test_kd(model, test_loader):\n",
    "    model.eval()\n",
    "    predictions = []\n",
    "    labels = []\n",
    "    with torch.no_grad():\n",
    "        for batch in test_loader:\n",
    "            label = batch['targets'].type(torch.LongTensor)\n",
    "            label = label.to(device)\n",
    "            input_ids = batch['input_ids'].to(device)\n",
    "            attention_masks = batch['attention_masks'].to(device)\n",
    "\n",
    "            # Forwards pass\n",
    "            output = model(input_ids, attention_masks)\n",
    "\n",
    "            _, preds = torch.max(output.logits, 1)\n",
    "            predictions.append(preds.flatten())\n",
    "            labels.append(label.data)\n",
    "\n",
    "    predictions = torch.cat(predictions).detach().cpu()\n",
    "    return predictions"
   ]
  },
  {
   "cell_type": "code",
   "execution_count": 16,
   "metadata": {},
   "outputs": [
    {
     "data": {
      "text/plain": [
       "DistilBertForSequenceClassification(\n",
       "  (distilbert): DistilBertModel(\n",
       "    (embeddings): Embeddings(\n",
       "      (word_embeddings): Embedding(64001, 768, padding_idx=0)\n",
       "      (position_embeddings): Embedding(258, 768)\n",
       "      (LayerNorm): LayerNorm((768,), eps=1e-12, elementwise_affine=True)\n",
       "      (dropout): Dropout(p=0.1, inplace=False)\n",
       "    )\n",
       "    (transformer): Transformer(\n",
       "      (layer): ModuleList(\n",
       "        (0-5): 6 x TransformerBlock(\n",
       "          (attention): MultiHeadSelfAttention(\n",
       "            (dropout): Dropout(p=0.1, inplace=False)\n",
       "            (q_lin): Linear(in_features=768, out_features=768, bias=True)\n",
       "            (k_lin): Linear(in_features=768, out_features=768, bias=True)\n",
       "            (v_lin): Linear(in_features=768, out_features=768, bias=True)\n",
       "            (out_lin): Linear(in_features=768, out_features=768, bias=True)\n",
       "          )\n",
       "          (sa_layer_norm): LayerNorm((768,), eps=1e-12, elementwise_affine=True)\n",
       "          (ffn): FFN(\n",
       "            (dropout): Dropout(p=0.1, inplace=False)\n",
       "            (lin1): Linear(in_features=768, out_features=3072, bias=True)\n",
       "            (lin2): Linear(in_features=3072, out_features=768, bias=True)\n",
       "          )\n",
       "          (output_layer_norm): LayerNorm((768,), eps=1e-12, elementwise_affine=True)\n",
       "        )\n",
       "      )\n",
       "    )\n",
       "  )\n",
       "  (pre_classifier): Linear(in_features=768, out_features=768, bias=True)\n",
       "  (classifier): Sequential(\n",
       "    (0): Linear(in_features=768, out_features=256, bias=True)\n",
       "    (1): Dropout(p=0.2, inplace=False)\n",
       "    (2): Linear(in_features=256, out_features=7, bias=True)\n",
       "  )\n",
       "  (dropout): Dropout(p=0.2, inplace=False)\n",
       ")"
      ]
     },
     "execution_count": 16,
     "metadata": {},
     "output_type": "execute_result"
    }
   ],
   "source": [
    "from transformers import DistilBertForSequenceClassification, DistilBertConfig\n",
    "\n",
    "config = DistilBertConfig(\n",
    "    num_labels=7,\n",
    "    vocab_size=64001,\n",
    "    max_position_embeddings=258\n",
    ")\n",
    "student_model = DistilBertForSequenceClassification(config)\n",
    "student_model.classifier = nn.Sequential(\n",
    "            nn.Linear(768, 256),\n",
    "            nn.Dropout(0.2),\n",
    "            nn.Linear(256, 7),)\n",
    "student_model.to(device)"
   ]
  },
  {
   "cell_type": "code",
   "execution_count": 17,
   "metadata": {},
   "outputs": [],
   "source": [
    "from torch import optim\n",
    "from transformers import AutoModel, AutoTokenizer, get_scheduler"
   ]
  },
  {
   "cell_type": "code",
   "execution_count": 18,
   "metadata": {},
   "outputs": [],
   "source": [
    "weights = torch.FloatTensor([0.14, 0.14, 0.14, 0.14, 0.14, 0.15, 0.15])\n",
    "criterion = nn.CrossEntropyLoss(weight=weights.to(device))\n",
    "\n",
    "param_optimizer = list(student_model.named_parameters())\n",
    "no_decay = ['bias', 'LayerNorm.bias', 'LayerNorm.weight']\n",
    "optimizer_grouped_parameters = [\n",
    "    {'params': [p for n, p in param_optimizer if not any(nd in n for nd in no_decay)], 'weight_decay': 0.01},\n",
    "    {'params': [p for n, p in param_optimizer if any(nd in n for nd in no_decay)], 'weight_decay': 0.0},\n",
    "]\n",
    "\n",
    "optimizer = optim.AdamW(optimizer_grouped_parameters, lr=LEARNING_RATE, eps=1e-8)\n",
    "    \n",
    "num_training_steps = EPOCHS * len(train_loader)\n",
    "\n",
    "lr_scheduler = get_scheduler(\n",
    "    'linear',\n",
    "    optimizer=optimizer,\n",
    "    num_warmup_steps=0,\n",
    "    num_training_steps=num_training_steps\n",
    ")"
   ]
  },
  {
   "cell_type": "code",
   "execution_count": 19,
   "metadata": {},
   "outputs": [],
   "source": [
    "alpha = 0.8\n",
    "T = 10"
   ]
  },
  {
   "cell_type": "code",
   "execution_count": 20,
   "metadata": {},
   "outputs": [
    {
     "name": "stdout",
     "output_type": "stream",
     "text": [
      "Epoch 0/9\n",
      "----------\n",
      "Training Loss: 3.36e-02 Acc: 0.32101658\n",
      "Validate Loss: 9.73e-02 Acc: 0.38483965\n",
      "Epoch 1/9\n",
      "----------\n",
      "Training Loss: 2.58e-02 Acc: 0.49459264\n",
      "Validate Loss: 9.08e-02 Acc: 0.46209913\n",
      "Epoch 2/9\n",
      "----------\n",
      "Training Loss: 1.95e-02 Acc: 0.61481613\n",
      "Validate Loss: 9.10e-02 Acc: 0.48542276\n",
      "Epoch 3/9\n",
      "----------\n",
      "Training Loss: 1.51e-02 Acc: 0.70944482\n",
      "Validate Loss: 9.20e-02 Acc: 0.49271140\n",
      "Epoch 4/9\n",
      "----------\n",
      "Training Loss: 1.15e-02 Acc: 0.79884642\n",
      "Validate Loss: 9.74e-02 Acc: 0.51457727\n",
      "Epoch 5/9\n",
      "----------\n",
      "Training Loss: 9.29e-03 Acc: 0.84174478\n",
      "Validate Loss: 1.02e-01 Acc: 0.48833820\n",
      "Epoch 6/9\n",
      "----------\n",
      "Training Loss: 7.23e-03 Acc: 0.88914925\n",
      "Validate Loss: 1.05e-01 Acc: 0.49271140\n",
      "Epoch 7/9\n",
      "----------\n",
      "Training Loss: 6.03e-03 Acc: 0.91852915\n",
      "Validate Loss: 1.05e-01 Acc: 0.50583094\n",
      "Epoch 8/9\n",
      "----------\n",
      "Training Loss: 5.26e-03 Acc: 0.93799567\n",
      "Validate Loss: 1.07e-01 Acc: 0.50145775\n",
      "Epoch 9/9\n",
      "----------\n",
      "Training Loss: 4.79e-03 Acc: 0.94881034\n",
      "Validate Loss: 1.08e-01 Acc: 0.51020408\n",
      "Training finished, took 136.64s\n"
     ]
    }
   ],
   "source": [
    "import time\n",
    "\n",
    "best_valid_loss = 1\n",
    "train_losses, valid_losses = [], []\n",
    "\n",
    "training_start_time = time.time()\n",
    "\n",
    "for epoch in range(EPOCHS):\n",
    "\n",
    "    train_acc, train_loss = train_kd(student_model, teacher_model, optimizer, lr_scheduler, train_loader, alpha, T)\n",
    "    valid_acc, valid_loss, val_pred = validate_kd(student_model, valid_loader)\n",
    "\n",
    "    if valid_loss < best_valid_loss:\n",
    "        best_valid_loss = valid_loss\n",
    "        torch.save(student_model.state_dict(), 'best_student_model.pth') \n",
    "\n",
    "    print('Epoch {}/{}'.format(epoch, EPOCHS - 1))\n",
    "    print('-' * 10)\n",
    "    print('Training Loss: {:.2e} Acc: {:.8f}'.format(train_loss, train_acc))\n",
    "    print('Validate Loss: {:.2e} Acc: {:.8f}'.format(valid_loss, valid_acc))\n",
    "    # print('ROC AUC Score: {: .8f}'.format(roc_auc))\n",
    "    train_losses.append(train_loss)\n",
    "    valid_losses.append(valid_loss)\n",
    "\n",
    "print('Training finished, took {:.2f}s'.format(time.time() - training_start_time))"
   ]
  },
  {
   "cell_type": "code",
   "execution_count": 21,
   "metadata": {},
   "outputs": [
    {
     "data": {
      "image/png": "[encoded data removed]",
      "text/plain": [
       "<Figure size 640x480 with 1 Axes>"
      ]
     },
     "metadata": {},
     "output_type": "display_data"
    }
   ],
   "source": [
    "epoch_ticks = range(1, EPOCHS + 1)\n",
    "plt.plot(epoch_ticks, train_losses)\n",
    "plt.plot(epoch_ticks, valid_losses)\n",
    "plt.legend(['Train Loss', 'Valid Loss'])\n",
    "plt.title('Losses') \n",
    "plt.xlabel('Epoch #')\n",
    "plt.ylabel('Loss')\n",
    "plt.xticks(epoch_ticks)\n",
    "plt.show()"
   ]
  },
  {
   "cell_type": "code",
   "execution_count": 22,
   "metadata": {},
   "outputs": [
    {
     "data": {
      "text/plain": [
       "tensor([3, 1, 1, 0, 4, 2, 2, 2, 5, 4, 2, 6, 4, 1, 0, 0, 6, 1, 4, 0, 0, 1, 6, 1,\n",
       "        6, 0, 1, 0, 6, 6, 3, 1, 1, 1, 0, 2, 2, 1, 0, 4, 4, 4, 0, 6, 6, 0, 2, 6,\n",
       "        2, 3, 5, 1, 0, 0, 3, 1, 1, 1, 1, 6, 6, 5, 0, 0, 1, 2, 6, 4, 0, 6, 2, 6,\n",
       "        1, 6, 0, 1, 0, 6, 2, 2, 1, 4, 2, 6, 0, 3, 2, 1, 1, 2, 0, 5, 0, 2, 2, 1,\n",
       "        0, 0, 5, 1, 4, 1, 1, 3, 5, 0, 3, 0, 1, 1, 0, 2, 1, 6, 2, 5, 6, 1, 1, 1,\n",
       "        6, 1, 1, 0, 6, 0, 1, 6, 2, 6, 1, 1, 3, 2, 1, 3, 1, 6, 0, 0, 6, 0, 3, 1,\n",
       "        0, 6, 6, 2, 2, 6, 0, 5, 2, 1, 3, 0, 6, 6, 6, 0, 1, 6, 1, 0, 5, 2, 1, 6,\n",
       "        1, 0, 5, 1, 2, 6, 4, 0, 5, 2, 0, 1, 0, 3, 1, 0, 0, 0, 6, 1, 2, 4, 1, 5,\n",
       "        1, 4, 6, 4, 5, 2, 6, 6, 6, 1, 1, 1, 5, 1, 0, 4, 6, 6, 5, 1, 1, 4, 3, 4,\n",
       "        0, 6, 0, 1, 6, 1, 1, 3, 0, 2, 3, 6, 1, 0, 0, 0, 1, 0, 0, 1, 1, 1, 2, 1,\n",
       "        3, 6, 0, 0, 0, 6, 5, 2, 2, 5, 1, 0, 2, 1, 2, 0, 2, 1, 1, 0, 4, 4, 6, 1,\n",
       "        1, 6, 0, 1, 1, 6, 2, 0, 0, 5, 0, 6, 1, 2, 6, 1, 2, 2, 0, 4, 6, 0, 6, 2,\n",
       "        1, 0, 6, 6, 0, 0, 0, 2, 2, 0, 1, 0, 1, 2, 6, 6, 0, 1, 0, 0, 1, 1, 3, 0,\n",
       "        1, 0, 0, 0, 5, 1, 6, 0, 0, 6, 5, 1, 2, 1, 6, 0, 1, 1, 0, 0, 2, 6, 6, 2,\n",
       "        1, 5, 0, 2, 0, 1, 0, 6, 6, 6, 6, 2, 1, 0, 5, 0, 2, 1, 2, 6, 1, 0, 2, 3,\n",
       "        5, 6, 0, 2, 0, 0, 0, 1, 1, 1, 6, 0, 1, 6, 1, 1, 1, 0, 4, 6, 1, 0, 6, 1,\n",
       "        6, 1, 2, 2, 0, 0, 0, 6, 0, 6, 2, 6, 1, 0, 5, 0, 2, 2, 0, 0, 0, 6, 1, 5,\n",
       "        6, 0, 6, 0, 0, 1, 1, 6, 4, 1, 0, 2, 6, 0, 1, 1, 3, 0, 6, 2, 2, 6, 6, 0,\n",
       "        0, 6, 6, 0, 0, 0, 6, 0, 0, 0, 6, 3, 0, 6, 2, 6, 2, 0, 6, 6, 6, 1, 0, 0,\n",
       "        6, 5, 0, 0, 1, 1, 3, 1, 6, 2, 2, 1, 6, 5, 2, 5, 0, 6, 2, 0, 0, 2, 5, 2,\n",
       "        0, 1, 0, 1, 6, 0, 6, 2, 0, 0, 6, 1, 4, 5, 1, 0, 1, 2, 1, 6, 0, 0, 0, 2,\n",
       "        0, 1, 5, 2, 1, 0, 1, 0, 6, 2, 5, 1, 1, 2, 0, 1, 1, 0, 2, 1, 1, 1, 6, 6,\n",
       "        0, 0, 0, 0, 0, 0, 0, 2, 6, 0, 3, 1, 0, 0, 5, 1, 6, 2, 1, 1, 2, 0, 2, 0,\n",
       "        4, 2, 6, 6, 6, 1, 6, 4, 0, 1, 4, 2, 0, 3, 6, 5, 5, 2, 6, 5, 1, 6, 2, 0,\n",
       "        2, 1, 3, 1, 0, 6, 1, 0, 5, 6, 1, 3, 5, 0, 1, 0, 1, 1, 2, 6, 1, 6, 6, 2,\n",
       "        6, 2, 6, 6, 2, 2, 0, 5, 2, 6, 5, 1, 6, 1, 5, 2, 2, 5, 2, 3, 5, 0, 3, 0,\n",
       "        0, 0, 0, 1, 2, 0, 2, 6, 1, 3, 6, 0, 2, 3, 0, 6, 6, 0, 3, 6, 0, 6, 6, 3,\n",
       "        5, 0, 0, 6, 1, 0, 6, 6, 2, 1, 3, 5, 2, 0, 0, 6, 2, 5, 0, 6, 6, 1, 0, 6,\n",
       "        6, 6, 6, 4, 0, 0, 2, 2, 1, 0, 0, 0, 1, 6, 1, 6, 6, 1, 0, 0, 0])"
      ]
     },
     "execution_count": 22,
     "metadata": {},
     "output_type": "execute_result"
    }
   ],
   "source": [
    "predict_test_kd(student_model, test_loader)"
   ]
  },
  {
   "cell_type": "code",
   "execution_count": 25,
   "metadata": {},
   "outputs": [
    {
     "name": "stdout",
     "output_type": "stream",
     "text": [
      "tensor(0.5267, device='cuda:0')\n"
     ]
    }
   ],
   "source": [
    "student_model.eval()\n",
    "total_loss = total = 0\n",
    "total_correct = 0\n",
    "predictions = []\n",
    "labels = []\n",
    "with torch.no_grad():\n",
    "    for batch in test_loader:\n",
    "        label = batch['targets'].type(torch.LongTensor)\n",
    "        label = label.to(device)\n",
    "        input_ids = batch['input_ids'].to(device)\n",
    "        attention_masks = batch['attention_masks'].to(device)\n",
    "\n",
    "        # Forwards pass\n",
    "        output = student_model(input_ids, attention_masks)\n",
    "        output = output.logits\n",
    "\n",
    "        preds = torch.argmax(output, 1)\n",
    "        predictions.append(preds.flatten())\n",
    "        labels.append(label.data)\n",
    "        \n",
    "        total_correct += torch.sum(preds == label.data)\n",
    "        total += len(label)\n",
    "\n",
    "predictions = torch.cat(predictions).detach().cpu()\n",
    "labels = torch.cat(labels).detach().cpu()\n",
    "print(total_correct / total)"
   ]
  }
 ],
 "metadata": {
  "kernelspec": {
   "display_name": "Python 3 (ipykernel)",
   "language": "python",
   "name": "python3"
  },
  "language_info": {
   "codemirror_mode": {
    "name": "ipython",
    "version": 3
   },
   "file_extension": ".py",
   "mimetype": "text/x-python",
   "name": "python",
   "nbconvert_exporter": "python",
   "pygments_lexer": "ipython3",
   "version": "3.11.9"
  }
 },
 "nbformat": 4,
 "nbformat_minor": 4
}
